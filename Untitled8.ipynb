{
  "cells": [
    {
      "cell_type": "code",
      "execution_count": 56,
      "metadata": {
        "colab": {
          "base_uri": "https://localhost:8080/"
        },
        "id": "lx8Uj_3zKm5A",
        "outputId": "224b72a3-5211-4939-ca65-753ce6538469"
      },
      "outputs": [
        {
          "name": "stdout",
          "output_type": "stream",
          "text": [
            "Drive already mounted at /content/drive; to attempt to forcibly remount, call drive.mount(\"/content/drive\", force_remount=True).\n"
          ]
        }
      ],
      "source": [
        "# save_all_flat.py\n",
        "import io, base64, logging\n",
        "from pathlib import Path\n",
        "from typing import Optional\n",
        "import pandas as pd\n",
        "from PIL import Image\n",
        "from google.colab import drive\n",
        "\n",
        "# Mount Google Drive\n",
        "drive.mount('/content/drive')\n",
        "\n",
        "# Logging setup\n",
        "logging.basicConfig(level=logging.INFO, format=\"%(levelname)s | %(message)s\")\n",
        "\n",
        "def base64_to_image(b64_string: str) -> Optional[Image.Image]:\n",
        "    if not isinstance(b64_string, str) or not b64_string.strip():\n",
        "        return None\n",
        "    if b64_string.startswith(\"data:\"):\n",
        "        b64_string = b64_string.split(\",\", 1)[1]\n",
        "    try:\n",
        "        image_data = base64.b64decode(b64_string.encode(\"ascii\"))\n",
        "        return Image.open(io.BytesIO(image_data))\n",
        "    except Exception as e:\n",
        "        logging.warning(f\"Base64 decode failed: {e}\")\n",
        "        return None\n",
        "\n",
        "def full_unicode_codepoint(char: str) -> str:\n",
        "    return \"U+\" + \"-\".join(f\"{ord(c):04X}\" for c in char)\n",
        "\n",
        "def save_all_images_flat(df: pd.DataFrame, output_dir: Path):\n",
        "    output_dir.mkdir(parents=True, exist_ok=True)\n",
        "    vendors = ['Apple', 'Google', 'Facebook', 'Windows', 'Twitter', 'JoyPixels', 'Samsung']\n",
        "    missing_log = output_dir / \"missing.txt\"\n",
        "\n",
        "    for _, row in df.iterrows():\n",
        "        emoji = row['emoji']\n",
        "        emoji_code = full_unicode_codepoint(emoji)\n",
        "\n",
        "        for vendor in vendors:\n",
        "            img = base64_to_image(row.get(vendor, \"\"))\n",
        "            if img is None:\n",
        "                with open(missing_log, \"a\") as f:\n",
        "                    f.write(f\"{emoji_code}_{vendor}\\n\")\n",
        "                continue\n",
        "            try:\n",
        "                img.save(output_dir / f\"{emoji_code}_{vendor.lower()}.png\")\n",
        "                logging.info(f\"✅ Saved {emoji_code}_{vendor.lower()}.png\")\n",
        "            except Exception as e:\n",
        "                logging.warning(f\"⚠️ Failed to save image for {emoji_code}_{vendor}: {e}\")\n",
        "\n",
        "# MAIN\n",
        "base_path = Path(\"/content/drive/MyDrive/emoji_dataset\")\n",
        "csv_path = base_path / \"emoji.csv\"\n",
        "images_path = base_path / \"images\"\n",
        "\n",
        "df = pd.read_csv(csv_path)\n",
        "save_all_images_flat(df, images_path)\n",
        "\n",
        "\n",
        "\n",
        "\n",
        "\n"
      ]
    }
  ],
  "metadata": {
    "colab": {
      "provenance": []
    },
    "kernelspec": {
      "display_name": "Python 3",
      "name": "python3"
    },
    "language_info": {
      "name": "python",
      "version": "3.12.5"
    }
  },
  "nbformat": 4,
  "nbformat_minor": 0
}
